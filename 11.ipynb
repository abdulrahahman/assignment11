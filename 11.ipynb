{
 "cells": [
  {
   "cell_type": "code",
   "execution_count": null,
   "id": "15169332",
   "metadata": {},
   "outputs": [],
   "source": [
    "name :s.Abdul rahman\n",
    "batch :dS50122\n",
    "assignment :1"
   ]
  },
  {
   "cell_type": "code",
   "execution_count": null,
   "id": "06def450",
   "metadata": {},
   "outputs": [],
   "source": [
    "Write a Python program to create a lambda function that adds 25 to a given number passed in as an argument.\n",
    "\n",
    "\n",
    "\n",
    "sample input: 10\n",
    "\n",
    "sample output: 35"
   ]
  },
  {
   "cell_type": "code",
   "execution_count": 2,
   "id": "fdb87fa3",
   "metadata": {},
   "outputs": [
    {
     "name": "stdout",
     "output_type": "stream",
     "text": [
      "35\n",
      "35\n"
     ]
    }
   ],
   "source": [
    "lam = lambda a : a + 25\n",
    "print(lam(10))\n",
    "r = lambda x, y : x * y\n",
    "print(lam(10))"
   ]
  }
 ],
 "metadata": {
  "kernelspec": {
   "display_name": "Python 3 (ipykernel)",
   "language": "python",
   "name": "python3"
  },
  "language_info": {
   "codemirror_mode": {
    "name": "ipython",
    "version": 3
   },
   "file_extension": ".py",
   "mimetype": "text/x-python",
   "name": "python",
   "nbconvert_exporter": "python",
   "pygments_lexer": "ipython3",
   "version": "3.8.6"
  }
 },
 "nbformat": 4,
 "nbformat_minor": 5
}
